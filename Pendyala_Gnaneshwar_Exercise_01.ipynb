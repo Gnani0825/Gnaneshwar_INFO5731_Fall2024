{
  "nbformat": 4,
  "nbformat_minor": 0,
  "metadata": {
    "colab": {
      "provenance": [],
      "authorship_tag": "ABX9TyMkLeY0kbuZt7G7acvGlrDb",
      "include_colab_link": true
    },
    "kernelspec": {
      "name": "python3",
      "display_name": "Python 3"
    },
    "language_info": {
      "name": "python"
    }
  },
  "cells": [
    {
      "cell_type": "markdown",
      "metadata": {
        "id": "view-in-github",
        "colab_type": "text"
      },
      "source": [
        "<a href=\"https://colab.research.google.com/github/Gnani0825/Gnaneshwar_INFO5731_Fall2024/blob/main/Pendyala_Gnaneshwar_Exercise_01.ipynb\" target=\"_parent\"><img src=\"https://colab.research.google.com/assets/colab-badge.svg\" alt=\"Open In Colab\"/></a>"
      ]
    },
    {
      "cell_type": "code",
      "execution_count": null,
      "metadata": {
        "id": "7A_8A_dGAw8R"
      },
      "outputs": [],
      "source": []
    },
    {
      "cell_type": "markdown",
      "source": [
        "## Question 1\n",
        "Write a Python program that  prompts the user to input the length and width of a rectangle, and then calculates and displays the area of the rectangle."
      ],
      "metadata": {
        "id": "1eZ4A_Vg73wO"
      }
    },
    {
      "cell_type": "code",
      "source": [
        "\n",
        "\n",
        "length = float(input(\"Enter the length of the rectangle: \"))\n",
        "width = float(input(\"Enter the width of the rectangle: \"))\n",
        "area = length * width\n",
        "print(f\"the area of the rectangle is: {area}\")"
      ],
      "metadata": {
        "colab": {
          "base_uri": "https://localhost:8080/"
        },
        "id": "pE4WLzVUBc1e",
        "outputId": "33e542c1-e9ed-4513-a5e4-6595e9309fd5"
      },
      "execution_count": 3,
      "outputs": [
        {
          "output_type": "stream",
          "name": "stdout",
          "text": [
            "Enter the length of the rectangle: 4\n",
            "Enter the width of the rectangle: 5\n",
            "the area of the rectangle is: 20.0\n"
          ]
        }
      ]
    },
    {
      "cell_type": "markdown",
      "source": [
        "## Question 2\n",
        "Create a Python program that interactively takes two numerical inputs from the user and swaps their values without utilizing an extra variable.\n"
      ],
      "metadata": {
        "id": "T6tvKKrhjkVe"
      }
    },
    {
      "cell_type": "code",
      "source": [
        "num1 = float(input(\"Enter the first number: \"))\n",
        "num2 = float(input(\"Enter the second number: \"))\n",
        "num1 = num1 + num2\n",
        "num2 = num1 - num2\n",
        "num1 = num1 - num2\n",
        "print(f\"after swapping:\\nfirst number: {num1}\\nsecond number: {num2}\")\n"
      ],
      "metadata": {
        "colab": {
          "base_uri": "https://localhost:8080/"
        },
        "id": "qDxXN-EdiUr7",
        "outputId": "9cc454b9-8f14-434f-f84a-2b84ced2fde6"
      },
      "execution_count": 5,
      "outputs": [
        {
          "output_type": "stream",
          "name": "stdout",
          "text": [
            "Enter the first number: 4\n",
            "Enter the second number: 5\n",
            "after swapping:\n",
            "first number: 5.0\n",
            "second number: 4.0\n"
          ]
        }
      ]
    },
    {
      "cell_type": "markdown",
      "source": [
        "## Question 3\n",
        "Write a Python script to determine and print the length of a user-input string."
      ],
      "metadata": {
        "id": "_GGShb8ClLY7"
      }
    },
    {
      "cell_type": "code",
      "source": [
        "user_string = input(\"Enter a string: \")\n",
        "string_length= len(user_string)\n",
        "print(f\"the length of the string is: {string_length}\")"
      ],
      "metadata": {
        "colab": {
          "base_uri": "https://localhost:8080/"
        },
        "id": "kaCYE_f5lMeG",
        "outputId": "d2c01824-465b-4a14-f2e7-8308dca540ef"
      },
      "execution_count": 6,
      "outputs": [
        {
          "output_type": "stream",
          "name": "stdout",
          "text": [
            "Enter a string: gnaneshwar\n",
            "the length of the string is: 10\n"
          ]
        }
      ]
    },
    {
      "cell_type": "markdown",
      "source": [
        "## Question 4\n",
        "Construct a Python program that counts and displays the occurrences of each character in a given string.\n",
        "\n",
        "Sample String: 'openai.ai',\n",
        "\n",
        "Expected Result: {'a': 2, 'i': 2, '.': 1, 'o': 1, 'p': 1, 'e': 1, 'n': 1}"
      ],
      "metadata": {
        "id": "dt45Tk-NmGdv"
      }
    },
    {
      "cell_type": "code",
      "source": [
        "given_string = input(\"enter the string: \")\n",
        "char_count={}\n",
        "for char in given_string:\n",
        "    if char in char_count:\n",
        "      char_count[char] += 1\n",
        "    else:\n",
        "      char_count[char] = 1\n",
        "print(char_count)"
      ],
      "metadata": {
        "colab": {
          "base_uri": "https://localhost:8080/"
        },
        "id": "h3R7rXJBmG30",
        "outputId": "6fcc2c71-c8ea-47e2-f732-5d99e8f6895e"
      },
      "execution_count": 8,
      "outputs": [
        {
          "output_type": "stream",
          "name": "stdout",
          "text": [
            "enter the string: sushma\n",
            "{'s': 2, 'u': 1, 'h': 1, 'm': 1, 'a': 1}\n"
          ]
        }
      ]
    },
    {
      "cell_type": "markdown",
      "source": [
        "## Question 5\n",
        "Design a Python code to calculate the sum of all elements in a user-provided list."
      ],
      "metadata": {
        "id": "9GGLzB4Qo2oa"
      }
    },
    {
      "cell_type": "code",
      "source": [
        "user_list=input(\"enter a list of numbers with spaces: \")\n",
        "num_list=[float(num) for num in user_list.split()]\n",
        "total_sum=sum(num_list)\n",
        "print(f\"the sum of all elements in the list is: {total_sum}\")\n",
        "\n"
      ],
      "metadata": {
        "colab": {
          "base_uri": "https://localhost:8080/"
        },
        "id": "Gr4HENS_o3Sv",
        "outputId": "f93aae08-c6f8-4937-a9dc-69ea4d9ea61c"
      },
      "execution_count": 9,
      "outputs": [
        {
          "output_type": "stream",
          "name": "stdout",
          "text": [
            "enter a list of numbers with spaces: 5 55 5\n",
            "the sum of all elements in the list is: 65.0\n"
          ]
        }
      ]
    },
    {
      "cell_type": "markdown",
      "source": [
        "## Question 6\n",
        "Write a Python program that modifies a given string by replacing all occurrences of its first character with '$', excluding the first character itself.\n",
        "\n",
        "\n",
        "Sample String : 'restart‘\n",
        "Expected Result : 'resta\\$t'"
      ],
      "metadata": {
        "id": "qW3hX-JtrwDP"
      }
    },
    {
      "cell_type": "code",
      "source": [
        "given_string=input(\"enter the string: \")\n",
        "first_char=given_string[0]\n",
        "modified_one=first_char + given_string[1:].replace(first_char, '$')\n",
        "print(modified_one)\n"
      ],
      "metadata": {
        "colab": {
          "base_uri": "https://localhost:8080/"
        },
        "id": "VZgwLGIArwa4",
        "outputId": "586d8eec-5e65-454e-a7b6-09d1f9f0a3f0"
      },
      "execution_count": 12,
      "outputs": [
        {
          "output_type": "stream",
          "name": "stdout",
          "text": [
            "enter the string: whenwhatwhere\n",
            "when$hat$here\n"
          ]
        }
      ]
    },
    {
      "cell_type": "markdown",
      "source": [
        "## Question 7\n",
        "Write a Python program using a while loop to compute the factorial of a user-supplied number."
      ],
      "metadata": {
        "id": "fwlGQbPNuB6I"
      }
    },
    {
      "cell_type": "code",
      "source": [
        "num=int(input(\"enter a number: \"))\n",
        "fact=1;\n",
        "if num<0:\n",
        "  print(\"factorial is not possible\")\n",
        "else:\n",
        "  while num>0:\n",
        "    fact *=num\n",
        "    num -=1\n",
        "print(\"factorial is:\", fact)\n",
        "\n"
      ],
      "metadata": {
        "colab": {
          "base_uri": "https://localhost:8080/"
        },
        "id": "0cAitnANuClC",
        "outputId": "8f35e005-22b7-4b91-bfa2-1f2cd238461c"
      },
      "execution_count": 14,
      "outputs": [
        {
          "output_type": "stream",
          "name": "stdout",
          "text": [
            "enter a number: 5\n",
            "factorial is: 120\n"
          ]
        }
      ]
    },
    {
      "cell_type": "markdown",
      "source": [
        "## Question 8\n",
        "Create a program that accepts a list of numbers as input and outputs a new list containing only the even numbers."
      ],
      "metadata": {
        "id": "-CSgvJXB12-5"
      }
    },
    {
      "cell_type": "code",
      "source": [
        "input_list=input(\"enter a list of numbers followed by spaces: \")\n",
        "num_list=[int(num) for num in input_list.split()]\n",
        "even_num=[num for num in num_list  if num%2==0]\n",
        "print( \"list of even numbers is\", even_num)\n",
        "\n"
      ],
      "metadata": {
        "colab": {
          "base_uri": "https://localhost:8080/"
        },
        "id": "xCJIH7fo13Q5",
        "outputId": "5e372caa-9edc-4d83-da9d-75429bccd319"
      },
      "execution_count": 19,
      "outputs": [
        {
          "output_type": "stream",
          "name": "stdout",
          "text": [
            "enter a list of numbers followed by spaces: 3 4 5 6 7 8 9 2\n",
            "list of even numbers is [4, 6, 8, 2]\n"
          ]
        }
      ]
    },
    {
      "cell_type": "markdown",
      "source": [
        "## Question 9\n",
        "Design a Python function to check if a number is prime.\n",
        "\n"
      ],
      "metadata": {
        "id": "AMKWTqAI6grm"
      }
    },
    {
      "cell_type": "code",
      "source": [
        "def is_prime(number):\n",
        "    if number <= 1:\n",
        "        return False\n",
        "    for i in range(2, int(number**0.5) + 1):\n",
        "        if number % i == 0:\n",
        "            return False\n",
        "    return True\n",
        "num = int(input(\"Enter a number: \"))\n",
        "if is_prime(num):\n",
        "    print(f\"{num} is a prime number.\")\n",
        "else:\n",
        "    print(f\"{num} is not a prime number.\")\n"
      ],
      "metadata": {
        "colab": {
          "base_uri": "https://localhost:8080/"
        },
        "id": "YT19FLlG6q49",
        "outputId": "8517ee03-5349-467e-bb40-973244bd2a4e"
      },
      "execution_count": 2,
      "outputs": [
        {
          "output_type": "stream",
          "name": "stdout",
          "text": [
            "Enter a number: 53\n",
            "53 is a prime number.\n"
          ]
        }
      ]
    },
    {
      "cell_type": "markdown",
      "source": [
        "## Question 10\n",
        "Write a Python program to concatenate following dictionaries to create a new one.\n",
        "\n",
        "Sample Dictionary : dic1={1:10, 2:20}, dic2={3:30, 4:40}, dic3={5:50,6:60},\n",
        "\n",
        "Expected Result : {1: 10, 2: 20, 3: 30, 4: 40, 5: 50, 6: 60}\n"
      ],
      "metadata": {
        "id": "QRvBEB2P-2HA"
      }
    },
    {
      "cell_type": "code",
      "source": [
        "def concatenate_dictionary(*dicts):\n",
        "    result = {}\n",
        "    for d in dicts:\n",
        "        result.update(d)\n",
        "    return result\n",
        "dic1 = {1: 10, 2: 20}\n",
        "dic2 = {3: 30, 4: 40}\n",
        "dic3 = {5: 50, 6: 60}\n",
        "combined_dict = concatenate_dictionary(dic1, dic2, dic3)\n",
        "print(\"Combined Dictionary:\", combined_dict)\n"
      ],
      "metadata": {
        "colab": {
          "base_uri": "https://localhost:8080/"
        },
        "id": "LqCSJSBD-8eo",
        "outputId": "b6941e24-5346-4306-ec21-094987803556"
      },
      "execution_count": 46,
      "outputs": [
        {
          "output_type": "stream",
          "name": "stdout",
          "text": [
            "Combined Dictionary: {1: 10, 2: 20, 3: 30, 4: 40, 5: 50, 6: 60}\n"
          ]
        }
      ]
    },
    {
      "cell_type": "markdown",
      "source": [
        "## Question 11\n",
        "Design a Python function that takes a tuple of integers as input and returns the largest and smallest elements."
      ],
      "metadata": {
        "id": "CkFNrxz8_D8_"
      }
    },
    {
      "cell_type": "code",
      "source": [
        "def find_min_max(numbers):\n",
        "    if len(numbers) == 0:\n",
        "        return None, None\n",
        "    min_num = max_num = numbers[0]\n",
        "    for num in numbers:\n",
        "        if num < min_num:\n",
        "            min_num = num\n",
        "        if num > max_num:\n",
        "            max_num = num\n",
        "    return min_num, max_num\n",
        "num_tuple = tuple(map(int, input(\"Enter integers separated by spaces: \").split()))\n",
        "min_element, max_element = find_min_max(num_tuple)\n",
        "print(f\"The smallest element is: {min_element}\")\n",
        "print(f\"The largest element is: {max_element}\")\n",
        "\n"
      ],
      "metadata": {
        "colab": {
          "base_uri": "https://localhost:8080/"
        },
        "id": "8lIcnTET_FaC",
        "outputId": "38ec6ba9-61d6-4fb6-bb1f-53fbf4ddeba5"
      },
      "execution_count": 43,
      "outputs": [
        {
          "output_type": "stream",
          "name": "stdout",
          "text": [
            "Enter integers separated by spaces: 4 3 1 6 33\n",
            "The smallest element is: 1\n",
            "The largest element is: 33\n"
          ]
        }
      ]
    },
    {
      "cell_type": "markdown",
      "source": [
        "## Question 12\n",
        "Write a Python program that counts the frequency of each character in a given string and stores it in a dictionary."
      ],
      "metadata": {
        "id": "L79LXjnh_J_a"
      }
    },
    {
      "cell_type": "code",
      "source": [
        "def count_character_frequency(s):\n",
        "    frequency_dict = {}\n",
        "    for char in s:\n",
        "        if char in frequency_dict:\n",
        "            frequency_dict[char] += 1\n",
        "        else:\n",
        "            frequency_dict[char] = 1\n",
        "    return frequency_dict\n",
        "input_string = input(\"Enter a string: \")\n",
        "frequency = count_character_frequency(input_string)\n",
        "print(\"Character frequencies:\")\n",
        "for char, freq in frequency.items():\n",
        "    print(f\"'{char}': {freq}\")\n"
      ],
      "metadata": {
        "colab": {
          "base_uri": "https://localhost:8080/"
        },
        "id": "YtCvoHwF_LLo",
        "outputId": "e39a3740-8fb2-43e1-babe-0694389d5f4d"
      },
      "execution_count": 44,
      "outputs": [
        {
          "output_type": "stream",
          "name": "stdout",
          "text": [
            "Enter a string: gnani\n",
            "Character frequencies:\n",
            "'g': 1\n",
            "'n': 2\n",
            "'a': 1\n",
            "'i': 1\n"
          ]
        }
      ]
    },
    {
      "cell_type": "markdown",
      "source": [
        "## Question 13\n",
        "Implement a Python script to identify duplicate elements in a provided array of integers. Return -1 if there are no duplicates."
      ],
      "metadata": {
        "id": "zkgnGjVK_R2m"
      }
    },
    {
      "cell_type": "code",
      "source": [
        "def find_duplicates(arr):\n",
        "    seen = set()\n",
        "    duplicates = set()\n",
        "    for num in arr:\n",
        "        if num in seen:\n",
        "            duplicates.add(num)\n",
        "        else:\n",
        "            seen.add(num)\n",
        "    if duplicates:\n",
        "        return list(duplicates)\n",
        "    else:\n",
        "        return -1\n",
        "input_array = list(map(int, input(\"Enter a list of integers separated by spaces: \").split()))\n",
        "result = find_duplicates(input_array)\n",
        "print(\"Duplicates:\" if result != -1 else \"No duplicates found.\", result)\n"
      ],
      "metadata": {
        "colab": {
          "base_uri": "https://localhost:8080/"
        },
        "id": "qxtw-r7C_TQb",
        "outputId": "4f07b72b-7f37-4457-9031-c168e397cdb6"
      },
      "execution_count": 37,
      "outputs": [
        {
          "output_type": "stream",
          "name": "stdout",
          "text": [
            "Enter a list of integers separated by spaces: 1 2 3 4 5 \n",
            "No duplicates found. -1\n"
          ]
        }
      ]
    },
    {
      "cell_type": "markdown",
      "source": [
        "## Question 14\n",
        "Write a Python script to find the common elements between two lists."
      ],
      "metadata": {
        "id": "rZESkQ1__Xkj"
      }
    },
    {
      "cell_type": "code",
      "source": [
        "def common_elements_list(list1, list2):\n",
        "    common_elements = set(list1).intersection(set(list2))\n",
        "    return list(common_elements)\n",
        "list1 = input(\"Enter the elements of the first list with spaces: \").split()\n",
        "list2 = input(\"Enter the elements of the second list with spaces: \").split()\n",
        "common = common_elements_list(list1, list2)\n",
        "print(f\"common elements between the two lists are: {common}\")\n"
      ],
      "metadata": {
        "colab": {
          "base_uri": "https://localhost:8080/"
        },
        "id": "A22SfX6f_Y8p",
        "outputId": "2e42c294-337d-40ae-bc90-1d2b28906059"
      },
      "execution_count": 36,
      "outputs": [
        {
          "output_type": "stream",
          "name": "stdout",
          "text": [
            "Enter the elements of the first list with spaces: 1 2 3 4 5 66 7 \n",
            "Enter the elements of the second list with spaces: 2 3 7\n",
            "common elements between the two lists are: ['2', '3', '7']\n"
          ]
        }
      ]
    },
    {
      "cell_type": "markdown",
      "source": [
        "## Question 15\n",
        "Write a Python program to randomly divide the students in this class into maximum of eight groups for term projects, each group should have at least 4 students but no more than 6 students (including 6).\n",
        "\n",
        "Here is the students list:\n",
        "\n",
        "student_list_spring_2024=[rb0846,\n",
        "ac1964,\n",
        "hc0612,\n",
        "md0912,\n",
        "ad1198,\n",
        "md0894,\n",
        "md0825,\n",
        "vg0598,\n",
        "vg0433,\n",
        "mh1068,\n",
        "yj0173,\n",
        "pk0553,\n",
        "tk0411,\n",
        "srk0204,\n",
        "sk2922,\n",
        "sk2936,\n",
        "mk1302,\n",
        "mk1317,\n",
        "tk0412,\n",
        "vk0656,\n",
        "sm2985,\n",
        "mm2372,\n",
        "un0045,\n",
        "an0892,\n",
        "sn0913,\n",
        "gp0252,\n",
        "ap1484,\n",
        "mr1765,\n",
        "sr1385,\n",
        "sr1335,\n",
        "hs0665,\n",
        "ms2060,\n",
        "gt0217,\n",
        "nt0385,\n",
        "tv0186,\n",
        "sv1394,\n",
        "sv1752,\n",
        "sv1555,\n",
        "sy0594\n",
        "]\n"
      ],
      "metadata": {
        "id": "Atkgsanl_d0-"
      }
    },
    {
      "cell_type": "code",
      "source": [
        "import random\n",
        "\n",
        "def divide_students_into_groups(students, max_groups=8, min_size=4, max_size=6):\n",
        "    random.shuffle(students)\n",
        "    groups = []\n",
        "    total_students = len(students)\n",
        "    index = 0\n",
        "    for _ in range(max_groups):\n",
        "        remaining_students = total_students - index\n",
        "        if remaining_students <= 0:\n",
        "            break\n",
        "        if remaining_students < min_size:\n",
        "            break\n",
        "        group_size = random.randint(min_size, min(max_size, remaining_students))\n",
        "        group = students[index:index + group_size]\n",
        "        groups.append(group)\n",
        "        index += group_size\n",
        "    return groups\n",
        "student_list_spring_2024 = [\n",
        "    'rb0846', 'ac1964', 'hc0612', 'md0912', 'ad1198', 'md0894', 'md0825', 'vg0598',\n",
        "    'vg0433', 'mh1068', 'yj0173', 'pk0553', 'tk0411', 'srk0204', 'sk2922', 'sk2936',\n",
        "    'mk1302', 'mk1317', 'tk0412', 'vk0656', 'sm2985', 'mm2372', 'un0045', 'an0892',\n",
        "    'sn0913', 'gp0252', 'ap1484', 'mr1765', 'sr1385', 'sr1335', 'hs0665', 'ms2060',\n",
        "    'gt0217', 'nt0385', 'tv0186', 'sv1394', 'sv1752', 'sv1555', 'sy0594'\n",
        "]\n",
        "groups = divide_students_into_groups(student_list_spring_2024)\n",
        "for i, group in enumerate(groups, start=1):\n",
        "    print(f\"Group {i}: {group}\")\n"
      ],
      "metadata": {
        "colab": {
          "base_uri": "https://localhost:8080/"
        },
        "id": "B8u89L9Q_fH0",
        "outputId": "3a28b144-d80e-449e-fc40-802688923c5f"
      },
      "execution_count": 48,
      "outputs": [
        {
          "output_type": "stream",
          "name": "stdout",
          "text": [
            "Group 1: ['ac1964', 'ap1484', 'tk0411', 'vg0433']\n",
            "Group 2: ['sv1752', 'mk1317', 'sr1335', 'sr1385', 'gt0217', 'vg0598']\n",
            "Group 3: ['mr1765', 'hs0665', 'rb0846', 'gp0252', 'pk0553', 'mh1068']\n",
            "Group 4: ['sm2985', 'ms2060', 'ad1198', 'mm2372']\n",
            "Group 5: ['an0892', 'tv0186', 'sn0913', 'vk0656', 'sk2922', 'hc0612']\n",
            "Group 6: ['sv1394', 'tk0412', 'mk1302', 'md0912', 'md0825']\n",
            "Group 7: ['sv1555', 'md0894', 'srk0204', 'yj0173']\n",
            "Group 8: ['sy0594', 'un0045', 'nt0385', 'sk2936']\n"
          ]
        }
      ]
    },
    {
      "cell_type": "markdown",
      "source": [
        "## Question 16\n",
        "Create a program that takes a positive integer 'n' as input and prints the count of even numbers from 1 to 'n'. Optimize the loop using the continue statement."
      ],
      "metadata": {
        "id": "GGDEZDDN_k1s"
      }
    },
    {
      "cell_type": "code",
      "source": [
        "def count_even_num(n):\n",
        "    even_count = 0\n",
        "    for i in range(1, n + 1):\n",
        "        if i%2 != 0:\n",
        "            continue\n",
        "        even_count += 1\n",
        "    return even_count\n",
        "n = int(input(\"Enter a positive number: \"))\n",
        "if n < 1:\n",
        "    print(\"Please enter a positive number.\")\n",
        "else:\n",
        "    even_count = count_even_num(n)\n",
        "    print(f\"the count of even numbers from 1 to {n} is: {even_count}\")\n"
      ],
      "metadata": {
        "colab": {
          "base_uri": "https://localhost:8080/"
        },
        "id": "6Uf6ouHu_nUu",
        "outputId": "a8a8e48b-84b1-43a1-e299-151a9a0ee202"
      },
      "execution_count": 35,
      "outputs": [
        {
          "output_type": "stream",
          "name": "stdout",
          "text": [
            "Enter a positive number: 9\n",
            "the count of even numbers from 1 to 9 is: 4\n"
          ]
        }
      ]
    },
    {
      "cell_type": "markdown",
      "source": [
        "## Question 17\n",
        "Develop a Python function called 'count_vowels' that takes a string as input and returns the count of vowels (both lowercase and uppercase) present in the string, ignoring spaces and non-alphabetic characters."
      ],
      "metadata": {
        "id": "yitRzuZL_rr1"
      }
    },
    {
      "cell_type": "markdown",
      "source": [],
      "metadata": {
        "id": "nPRY9u2sMH9U"
      }
    },
    {
      "cell_type": "code",
      "source": [
        "def count_vowels(s):\n",
        "    vowels=set('aeiouAEIOU')\n",
        "    vowel_count = 0\n",
        "    for char in s:\n",
        "        if char in vowels:\n",
        "            vowel_count += 1\n",
        "    return vowel_count\n",
        "input_string = input(\"Enter a string: \")\n",
        "vowels_count = count_vowels(input_string)\n",
        "print(f\"the number of vowels in the string is: {vowels_count}\")\n"
      ],
      "metadata": {
        "colab": {
          "base_uri": "https://localhost:8080/"
        },
        "id": "zEKJdhuu_s3E",
        "outputId": "f280962b-76c8-484f-d60f-6949b5fdc1f4"
      },
      "execution_count": 34,
      "outputs": [
        {
          "output_type": "stream",
          "name": "stdout",
          "text": [
            "Enter a string: apple\n",
            "the number of vowels in the string is: 2\n"
          ]
        }
      ]
    },
    {
      "cell_type": "markdown",
      "source": [
        "## Question 18\n",
        "Create a custom exception named ValueTooSmallError in Python. Write a program that takes user input for an age, and if the entered age is less than 18, raise the ValueTooSmallError with an appropriate error message."
      ],
      "metadata": {
        "id": "_tyPnEX2_0kS"
      }
    },
    {
      "cell_type": "code",
      "source": [
        "input_age=int(input(\"enter the age: \"))\n",
        "if input_age < 18:\n",
        "  print(\"age must be atleast 18.\")\n",
        "else:\n",
        "  print(\"age is valid\")"
      ],
      "metadata": {
        "colab": {
          "base_uri": "https://localhost:8080/"
        },
        "id": "77ggJL9N_6LE",
        "outputId": "b78bcab8-a493-4568-8d14-0eb35f31e107"
      },
      "execution_count": 33,
      "outputs": [
        {
          "output_type": "stream",
          "name": "stdout",
          "text": [
            "enter the age: 14\n",
            "age must be atleast 18.\n"
          ]
        }
      ]
    },
    {
      "cell_type": "markdown",
      "source": [
        "## Question 19\n",
        "Develop a script that reverses a given string without using built-in reverse functions."
      ],
      "metadata": {
        "id": "QuE2Zu5___lh"
      }
    },
    {
      "cell_type": "code",
      "source": [
        "\n",
        "def rev_string(s):\n",
        "  reverse_string=\"\"\n",
        "  for i in range(len(s) - 1, -1, -1):\n",
        "        reverse_string += s[i]\n",
        "\n",
        "  return reverse_string\n",
        "input_string= input(\"enter a string: \")\n",
        "reverse_string=rev_string(input_string)\n",
        "print(f\"reverse string is : {reverse_string}\")\n",
        "\n",
        "\n",
        "\n"
      ],
      "metadata": {
        "colab": {
          "base_uri": "https://localhost:8080/"
        },
        "id": "fTNrQ9rlAAo6",
        "outputId": "6dc84910-f15e-47d0-c28f-86f7f4b99747"
      },
      "execution_count": 30,
      "outputs": [
        {
          "output_type": "stream",
          "name": "stdout",
          "text": [
            "enter a string: ganesh\n",
            "reverse string is : hsenag\n"
          ]
        }
      ]
    },
    {
      "cell_type": "markdown",
      "source": [
        "## Question 20\n",
        "Implement a Python script to generate a random password of a specified length."
      ],
      "metadata": {
        "id": "uXSmeQk0ALt4"
      }
    },
    {
      "cell_type": "code",
      "source": [
        "import random\n",
        "import string\n",
        "\n",
        "def pass_word(length):\n",
        "    characters = string.ascii_letters + string.digits + string.punctuation\n",
        "    password=''.join(random.choice(characters) for n in range(length))\n",
        "    return password\n",
        "length=int(input(\"enter the length: \"))\n",
        "password= pass_word(length)\n",
        "print(f\" new password is:{password}\")\n",
        "\n"
      ],
      "metadata": {
        "colab": {
          "base_uri": "https://localhost:8080/"
        },
        "id": "9SqMTAIjANKd",
        "outputId": "259b45db-e408-490c-b694-413632c0e142"
      },
      "execution_count": 29,
      "outputs": [
        {
          "output_type": "stream",
          "name": "stdout",
          "text": [
            "enter the length: 10\n",
            " new password is:nkCz'-+}\\m\n"
          ]
        }
      ]
    },
    {
      "cell_type": "markdown",
      "source": [
        "**Important:**\n",
        "Reflecting on the first three lectures and the exercises you've completed, please provide feedback on your learning experience. Share your thoughts on whether the material covered was clear, the exercises were helpful, and if you feel more confident in applying Python programming concepts. Additionally, mention any specific areas where you would like more clarification or topics you would like to explore further in future lectures. Your feedback is valuable in shaping the course for an effective learning journey.\n"
      ],
      "metadata": {
        "id": "UE7ZkHmpAiMA"
      }
    },
    {
      "cell_type": "code",
      "source": [
        "'''\n",
        "yes,this exercise has helped me to get familiar with basics of python,as i have knowledge in java,i need to complete more topics in depth in python so that i can be familiar in using the language.\n",
        "'''"
      ],
      "metadata": {
        "id": "Tho6uk38Amqr"
      },
      "execution_count": null,
      "outputs": []
    }
  ]
}