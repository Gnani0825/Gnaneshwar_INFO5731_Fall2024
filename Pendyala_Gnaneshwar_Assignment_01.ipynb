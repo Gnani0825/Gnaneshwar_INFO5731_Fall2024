{
  "nbformat": 4,
  "nbformat_minor": 0,
  "metadata": {
    "colab": {
      "provenance": [],
      "authorship_tag": "ABX9TyNv15p3hdpFqukpeKcRrTrB",
      "include_colab_link": true
    },
    "kernelspec": {
      "name": "python3",
      "display_name": "Python 3"
    },
    "language_info": {
      "name": "python"
    }
  },
  "cells": [
    {
      "cell_type": "markdown",
      "metadata": {
        "id": "view-in-github",
        "colab_type": "text"
      },
      "source": [
        "<a href=\"https://colab.research.google.com/github/Gnani0825/Gnaneshwar_INFO5731_Fall2024/blob/main/Pendyala_Gnaneshwar_Assignment_01.ipynb\" target=\"_parent\"><img src=\"https://colab.research.google.com/assets/colab-badge.svg\" alt=\"Open In Colab\"/></a>"
      ]
    },
    {
      "cell_type": "code",
      "execution_count": null,
      "metadata": {
        "id": "HHY56PvWQzfh"
      },
      "outputs": [],
      "source": []
    },
    {
      "cell_type": "markdown",
      "source": [
        "# Question 1 (10 points).\n",
        "\n",
        "The formula that describes the volume V of a hemisphere with radius r is the following:\n",
        "\n",
        "$ V=\\frac{2}{3}\\ast\\ \\pi\\ast\\ r^3 $\n",
        "\n",
        "Write a program to calculate the value of V when r is in the range of even numbers from 1-20. Output the result in the following format:\n",
        "\n",
        "\tr\tV\n",
        "\t2\t…\n",
        "\t4\t…\n",
        "\t6\t…\n",
        "\t.\n",
        "\t.\n",
        "\t.\n",
        "\t20\t…\n"
      ],
      "metadata": {
        "id": "fFC71LBSRD5w"
      }
    },
    {
      "cell_type": "code",
      "source": [
        "import math\n",
        "#we are creating a space between r and v column\n",
        "print(\"\\tr\\tV\")\n",
        "#now we created a function for the formula to return there result of maths expression\n",
        "def volume(r):\n",
        "  return (2/3)* math.pi * (r**3)\n",
        "for r in range(2,21,2):\n",
        "    hemi_vol=volume(r)\n",
        "    print(f\"\\t{r}\\t{hemi_vol:.2f}\")"
      ],
      "metadata": {
        "colab": {
          "base_uri": "https://localhost:8080/"
        },
        "id": "F9DL3gqGYdHQ",
        "outputId": "b49a1ebd-ab8a-460f-8129-82df426396d7"
      },
      "execution_count": null,
      "outputs": [
        {
          "output_type": "stream",
          "name": "stdout",
          "text": [
            "\tr\tV\n",
            "\t2\t16.76\n",
            "\t4\t134.04\n",
            "\t6\t452.39\n",
            "\t8\t1072.33\n",
            "\t10\t2094.40\n",
            "\t12\t3619.11\n",
            "\t14\t5747.02\n",
            "\t16\t8578.64\n",
            "\t18\t12214.51\n",
            "\t20\t16755.16\n"
          ]
        }
      ]
    },
    {
      "cell_type": "markdown",
      "source": [
        "# Question 2 (20 points)\n",
        "\n",
        "(a) Write a Python program to generate a sequence of 12 random numbers falling within the range of 50 to 150.\n",
        "\n",
        "(b) Arrange the generated numbers in ascending order. Display the sorted list.\n",
        "\n",
        "(c) Extend the program to arrange the numbers in descending order as well. Present the sorted list accordingly.\n",
        "\n",
        "(d) Compute and output the average of the entire group of generated numbers.\n",
        "\n",
        "(e) Enhance the program to calculate and display the average of the first 6 numbers from both the ascending and descending sorted lists."
      ],
      "metadata": {
        "id": "uCGa3lKqc7jO"
      }
    },
    {
      "cell_type": "code",
      "source": [
        "import random\n",
        "num_ran =([random.randint(50, 150) for _ in range(12)])\n",
        "print(\" sequence of twelve random numbers:\",num_ran)\n",
        "#ascending list\n",
        "ascen_nums=sorted(num_ran)\n",
        "print(\" numbers in ascending order:\",ascen_nums)\n",
        "#descending list\n",
        "decen_nums=sorted(num_ran ,reverse=True)\n",
        "print(\" numbers in decending order:\",decen_nums)\n",
        "#average of random numbers\n",
        "avg=sum(num_ran)/len(num_ran)\n",
        "print(f\" average of numbers:{avg:.2f}\")\n",
        "#average of first six ascending and descending order\n",
        "avg_of_six_ascen_nums=sum(ascen_nums[:6])/6\n",
        "avg_of_six_decen_nums=sum(decen_nums[:6])/6\n",
        "print(f\" average of first six numbers in ascending sorted list are: {avg_of_six_ascen_nums:.2f}\")\n",
        "print(f\" average of first six numbers in decending sorted list are:{avg_of_six_decen_nums:.2f}\")\n",
        "\n",
        "\n",
        "\n",
        "\n",
        "\n",
        "\n",
        "\n"
      ],
      "metadata": {
        "colab": {
          "base_uri": "https://localhost:8080/"
        },
        "id": "Hcxu5JjCr797",
        "outputId": "d273f1cf-7782-494a-c979-630085ee8757"
      },
      "execution_count": 23,
      "outputs": [
        {
          "output_type": "stream",
          "name": "stdout",
          "text": [
            " sequence of twelve random numbers: [95, 136, 80, 83, 88, 115, 137, 130, 97, 98, 101, 112]\n",
            " numbers in ascending order: [80, 83, 88, 95, 97, 98, 101, 112, 115, 130, 136, 137]\n",
            " numbers in decending order: [137, 136, 130, 115, 112, 101, 98, 97, 95, 88, 83, 80]\n",
            " average of numbers:106.00\n",
            " average of first six numbers in ascending sorted list are: 90.17\n",
            " average of first six numbers in decending sorted list are:121.83\n"
          ]
        }
      ]
    },
    {
      "cell_type": "markdown",
      "source": [
        "# Question 3 (20 points).\n",
        "\n",
        "Create a Python program that encompasses various string manipulation task:\n",
        "\n",
        "(a) Prompt the user to input two sentences.\n",
        "\n",
        "(b) Transform each sentence into a list, where each element corresponds to a word in the sentence. For example, if the sentences are \"Hello, how are you doing today?\" and \"This is an example sentence for the program!\"\n",
        "\n",
        "The program should output:\n",
        "['Hello', ',', 'how', 'are', 'you', 'doing', 'today', '?', 'This', 'is', 'an', 'example', 'sentence', 'for', 'the', 'program', '!']\n",
        "\n",
        "(c) Compare the two sentences. Print out a list of words that occur in both sentences.\n",
        "\n",
        "(d) Remove any punctuation from the sentence and print the sanitized sentences. It should remove at least the following characters, but it can remove more: period(“.”), comma (“,”), semicolon (“;”), and colon (“:”).\n",
        "\n",
        "(e) Count the number of vowels in each of the sentences. Print out each vowel and the occurrences  in the each of the two sentences separately, such as:\n",
        "\n",
        "Sentence1: a:2, e:2, i:0, etc.\n",
        "Sentence2: a:1, e:2, i:2, etc.\n",
        "\n",
        "Design a well-structured Python program to execute these tasks efficiently."
      ],
      "metadata": {
        "id": "c2HdqDgUqTDj"
      }
    },
    {
      "cell_type": "code",
      "source": [
        "import string\n",
        "first=input(\"enter the first sentence: \")\n",
        "second=input(\"enter the second sentence: \")\n",
        "first_lis=first.split()\n",
        "second_lis=second.split()\n",
        "full_lis=first_lis + second_lis\n",
        "print(\"\\n transformed sentence is: \")\n",
        "print(full_lis)\n",
        "common=set(first_lis).intersection(set(second_lis))\n",
        "print(\"\\n list of words that occur in both sentences are: \")\n",
        "print(common)\n",
        "def remove_m(s):\n",
        "  return s.translate(str.maketrans(\"\", \"\", string.punctuation))\n",
        "ganesh_one=remove_m(first)\n",
        "ganesh_two=remove_m(second)\n",
        "print(\"sanitized sentence one is: \",ganesh_one)\n",
        "print(\"santized sentence two is: \", ganesh_two)\n",
        "vowels=\"aeiou\"\n",
        "def vowels_c(r):\n",
        "  vowel_count={vowel:0 for vowel in vowels}\n",
        "  for char in r.lower():\n",
        "    if char in vowel_count:\n",
        "      vowel_count[char]+=1\n",
        "  return vowel_count\n",
        "vowel_one=vowels_c(ganesh_one)\n",
        "vowel_two=vowels_c(ganesh_two)\n",
        "print(f\"sentence 1:\",''.join([f\"{v}:{c}\" for v,c in vowel_one.items()]))\n",
        "print(f\"sentence 2:\",''.join([f\"{v}:{c}\" for v,c in vowel_two.items()]))\n",
        "\n",
        "\n"
      ],
      "metadata": {
        "colab": {
          "base_uri": "https://localhost:8080/"
        },
        "id": "hbx-3FhQqYc_",
        "outputId": "ad979c3e-7c0a-41f4-a0d1-87fa7f035226"
      },
      "execution_count": 36,
      "outputs": [
        {
          "output_type": "stream",
          "name": "stdout",
          "text": [
            "enter the first sentence: hey gnaneshwar where are you .\n",
            "enter the second sentence: my friend name is anil stays in irving\n",
            "\n",
            " transformed sentence is: \n",
            "['hey', 'gnaneshwar', 'where', 'are', 'you', '.', 'my', 'friend', 'name', 'is', 'anil', 'stays', 'in', 'irving']\n",
            "\n",
            " list of words that occur in both sentences are: \n",
            "set()\n",
            "sanitized sentence one is:  hey gnaneshwar where are you \n",
            "santized sentence two is:  my friend name is anil stays in irving\n",
            "sentence 1: a:3e:5i:0o:1u:1\n",
            "sentence 2: a:3e:2i:6o:0u:0\n"
          ]
        }
      ]
    },
    {
      "cell_type": "markdown",
      "source": [
        "# Question 4 (20 Points)\n",
        "Design and implement a simple command-line calculator program. The program should handle both integers and floating-point numbers.\n",
        "\n",
        "(a) Write program that takes a mathematical expression as input and evaluates it. The program should support addition, subtraction, multiplication, and division.\n",
        "\n",
        "(b) Extend the calculator to handle parentheses in mathematical expressions. Implement the necessary logic to evaluate expressions with nested parentheses.\n",
        "\n",
        "(c) Enhance your calculator to include additional mathematical operations such as exponentiation, square root, and modulus.\n",
        "\n",
        "(d) Implement error handling in the calculator program. Handle cases such as division by zero and invalid input expressions. Provide meaningful error messages.\n",
        "\n",
        "(e) Implement a command to exit the calculator."
      ],
      "metadata": {
        "id": "MVFGTA25B656"
      }
    },
    {
      "cell_type": "code",
      "source": [
        "import math\n",
        "def calci():\n",
        "  print(\"welcome to calculator\")\n",
        "  print(\"i can solve your problems\")\n",
        "  print(\"enter exit to quit the program\")\n",
        "  while True:\n",
        "    math_expression=input(\"Enter the expression: \")\n",
        "    if math_expression.lower() in ['exit','quit']:\n",
        "      print(\"come again,good bye\")\n",
        "      break\n",
        "  #we are using exception to catch the error to run program smoothly\n",
        "    try:\n",
        "       result = eval(math_expression, {\"__builtins__\": None}, {\"math\": math, \"sqrt\": math.sqrt})\n",
        "       print(f\"result: {result}\")\n",
        "    except ZeroDivisionError:\n",
        "            print(\"Error: please do not ruin the application,division is not possible\")\n",
        "    except (SyntaxError, NameError):\n",
        "            print(\"Error:  Please enter a valid  expression.\")\n",
        "    except Exception as e:\n",
        "            print(f\"Error: {e}\")\n",
        "calci()"
      ],
      "metadata": {
        "colab": {
          "base_uri": "https://localhost:8080/"
        },
        "id": "RkIypFp4CC4C",
        "outputId": "3f7ff0dd-df7b-4c21-8d13-80650381554a"
      },
      "execution_count": 28,
      "outputs": [
        {
          "output_type": "stream",
          "name": "stdout",
          "text": [
            "welcome to calculator\n",
            "i can solve your problems\n",
            "enter exit to quit the program\n",
            "Enter the expression: 2/3 * 4 *3\n",
            "result: 8.0\n",
            "Enter the expression: exit\n",
            "come again,good bye\n"
          ]
        }
      ]
    },
    {
      "cell_type": "markdown",
      "source": [
        "# Question 5 (30 points).\n",
        "\n",
        "In the field of Data Science, data is often formatted as a comma-delimited (CSV) file, where each line in a file corresponds to a field's value. Refer to Chapter 9 (p. 106) for more information on comma-delimited files.\n",
        "\n",
        "To answer this question, you will need to download the file [Assignment1_denton_housing.csv](https://raw.githubusercontent.com/unt-iialab/info5731-spring2022/main/assignments/Assignment1_denton_housing.csv) included with this assignment. The file contains statistics about housing in the city of Denton from 2008 to 2014. Write a program to implement the following questions.\n",
        "\n",
        "(a) (5 pts) Calculate the difference in the number of Occupied Housing Units from year to year and print it. The difference must be calculated for the consecutive years such as 2008-2009, 2009-2010 etc. Finally, print the values in the ascending order.\n",
        "\n",
        "(b) (5 pts) For all the years, calculate the percentage of housing units which are vacant an occupied. Print the results in the following format:\n",
        "\n",
        "Year Vacant Housing Units Occupied Housing Units\n",
        "\n",
        "    2008  30%   70%                          \n",
        "\t2009 ----- -----\n",
        "\t2010 ----- -----\n",
        "    2011 ----- -----\n",
        "\t2012 ----- -----\n",
        "    2013 ----- -----\n",
        "\t2014 ----- -----\n",
        "  \n",
        "  \n",
        "\n",
        "(c) (10 pts) Calculate and print the valued and years in which the highest number of housing units were vacant and occupied. Print the results in the following format:  \n",
        "\n",
        "                              Year\tValue\n",
        "\tVacant Housing Units\t  -----   -----\n",
        "\tOccupied Housing Units\t-----   -----\n",
        "\n",
        "(d) (10 pts) Calculate the harmonic mean of the total housing units and print it out. You can find the information about harmonic mean here: https://ncalculators.com/statistics/harmonic-mean-calculator.htm"
      ],
      "metadata": {
        "id": "DmdaYHPgCLWC"
      }
    },
    {
      "cell_type": "code",
      "source": [
        "from google.colab import files\n",
        "\n",
        "\n",
        "uploaded = files.upload()\n",
        "\n"
      ],
      "metadata": {
        "id": "0YUthzkXdXFs",
        "colab": {
          "base_uri": "https://localhost:8080/",
          "height": 73
        },
        "outputId": "8293b9ec-2921-4291-8911-ebb2f9352f21"
      },
      "execution_count": 3,
      "outputs": [
        {
          "output_type": "display_data",
          "data": {
            "text/plain": [
              "<IPython.core.display.HTML object>"
            ],
            "text/html": [
              "\n",
              "     <input type=\"file\" id=\"files-dd34ac66-b6ee-43b7-8253-b5f79a9c821f\" name=\"files[]\" multiple disabled\n",
              "        style=\"border:none\" />\n",
              "     <output id=\"result-dd34ac66-b6ee-43b7-8253-b5f79a9c821f\">\n",
              "      Upload widget is only available when the cell has been executed in the\n",
              "      current browser session. Please rerun this cell to enable.\n",
              "      </output>\n",
              "      <script>// Copyright 2017 Google LLC\n",
              "//\n",
              "// Licensed under the Apache License, Version 2.0 (the \"License\");\n",
              "// you may not use this file except in compliance with the License.\n",
              "// You may obtain a copy of the License at\n",
              "//\n",
              "//      http://www.apache.org/licenses/LICENSE-2.0\n",
              "//\n",
              "// Unless required by applicable law or agreed to in writing, software\n",
              "// distributed under the License is distributed on an \"AS IS\" BASIS,\n",
              "// WITHOUT WARRANTIES OR CONDITIONS OF ANY KIND, either express or implied.\n",
              "// See the License for the specific language governing permissions and\n",
              "// limitations under the License.\n",
              "\n",
              "/**\n",
              " * @fileoverview Helpers for google.colab Python module.\n",
              " */\n",
              "(function(scope) {\n",
              "function span(text, styleAttributes = {}) {\n",
              "  const element = document.createElement('span');\n",
              "  element.textContent = text;\n",
              "  for (const key of Object.keys(styleAttributes)) {\n",
              "    element.style[key] = styleAttributes[key];\n",
              "  }\n",
              "  return element;\n",
              "}\n",
              "\n",
              "// Max number of bytes which will be uploaded at a time.\n",
              "const MAX_PAYLOAD_SIZE = 100 * 1024;\n",
              "\n",
              "function _uploadFiles(inputId, outputId) {\n",
              "  const steps = uploadFilesStep(inputId, outputId);\n",
              "  const outputElement = document.getElementById(outputId);\n",
              "  // Cache steps on the outputElement to make it available for the next call\n",
              "  // to uploadFilesContinue from Python.\n",
              "  outputElement.steps = steps;\n",
              "\n",
              "  return _uploadFilesContinue(outputId);\n",
              "}\n",
              "\n",
              "// This is roughly an async generator (not supported in the browser yet),\n",
              "// where there are multiple asynchronous steps and the Python side is going\n",
              "// to poll for completion of each step.\n",
              "// This uses a Promise to block the python side on completion of each step,\n",
              "// then passes the result of the previous step as the input to the next step.\n",
              "function _uploadFilesContinue(outputId) {\n",
              "  const outputElement = document.getElementById(outputId);\n",
              "  const steps = outputElement.steps;\n",
              "\n",
              "  const next = steps.next(outputElement.lastPromiseValue);\n",
              "  return Promise.resolve(next.value.promise).then((value) => {\n",
              "    // Cache the last promise value to make it available to the next\n",
              "    // step of the generator.\n",
              "    outputElement.lastPromiseValue = value;\n",
              "    return next.value.response;\n",
              "  });\n",
              "}\n",
              "\n",
              "/**\n",
              " * Generator function which is called between each async step of the upload\n",
              " * process.\n",
              " * @param {string} inputId Element ID of the input file picker element.\n",
              " * @param {string} outputId Element ID of the output display.\n",
              " * @return {!Iterable<!Object>} Iterable of next steps.\n",
              " */\n",
              "function* uploadFilesStep(inputId, outputId) {\n",
              "  const inputElement = document.getElementById(inputId);\n",
              "  inputElement.disabled = false;\n",
              "\n",
              "  const outputElement = document.getElementById(outputId);\n",
              "  outputElement.innerHTML = '';\n",
              "\n",
              "  const pickedPromise = new Promise((resolve) => {\n",
              "    inputElement.addEventListener('change', (e) => {\n",
              "      resolve(e.target.files);\n",
              "    });\n",
              "  });\n",
              "\n",
              "  const cancel = document.createElement('button');\n",
              "  inputElement.parentElement.appendChild(cancel);\n",
              "  cancel.textContent = 'Cancel upload';\n",
              "  const cancelPromise = new Promise((resolve) => {\n",
              "    cancel.onclick = () => {\n",
              "      resolve(null);\n",
              "    };\n",
              "  });\n",
              "\n",
              "  // Wait for the user to pick the files.\n",
              "  const files = yield {\n",
              "    promise: Promise.race([pickedPromise, cancelPromise]),\n",
              "    response: {\n",
              "      action: 'starting',\n",
              "    }\n",
              "  };\n",
              "\n",
              "  cancel.remove();\n",
              "\n",
              "  // Disable the input element since further picks are not allowed.\n",
              "  inputElement.disabled = true;\n",
              "\n",
              "  if (!files) {\n",
              "    return {\n",
              "      response: {\n",
              "        action: 'complete',\n",
              "      }\n",
              "    };\n",
              "  }\n",
              "\n",
              "  for (const file of files) {\n",
              "    const li = document.createElement('li');\n",
              "    li.append(span(file.name, {fontWeight: 'bold'}));\n",
              "    li.append(span(\n",
              "        `(${file.type || 'n/a'}) - ${file.size} bytes, ` +\n",
              "        `last modified: ${\n",
              "            file.lastModifiedDate ? file.lastModifiedDate.toLocaleDateString() :\n",
              "                                    'n/a'} - `));\n",
              "    const percent = span('0% done');\n",
              "    li.appendChild(percent);\n",
              "\n",
              "    outputElement.appendChild(li);\n",
              "\n",
              "    const fileDataPromise = new Promise((resolve) => {\n",
              "      const reader = new FileReader();\n",
              "      reader.onload = (e) => {\n",
              "        resolve(e.target.result);\n",
              "      };\n",
              "      reader.readAsArrayBuffer(file);\n",
              "    });\n",
              "    // Wait for the data to be ready.\n",
              "    let fileData = yield {\n",
              "      promise: fileDataPromise,\n",
              "      response: {\n",
              "        action: 'continue',\n",
              "      }\n",
              "    };\n",
              "\n",
              "    // Use a chunked sending to avoid message size limits. See b/62115660.\n",
              "    let position = 0;\n",
              "    do {\n",
              "      const length = Math.min(fileData.byteLength - position, MAX_PAYLOAD_SIZE);\n",
              "      const chunk = new Uint8Array(fileData, position, length);\n",
              "      position += length;\n",
              "\n",
              "      const base64 = btoa(String.fromCharCode.apply(null, chunk));\n",
              "      yield {\n",
              "        response: {\n",
              "          action: 'append',\n",
              "          file: file.name,\n",
              "          data: base64,\n",
              "        },\n",
              "      };\n",
              "\n",
              "      let percentDone = fileData.byteLength === 0 ?\n",
              "          100 :\n",
              "          Math.round((position / fileData.byteLength) * 100);\n",
              "      percent.textContent = `${percentDone}% done`;\n",
              "\n",
              "    } while (position < fileData.byteLength);\n",
              "  }\n",
              "\n",
              "  // All done.\n",
              "  yield {\n",
              "    response: {\n",
              "      action: 'complete',\n",
              "    }\n",
              "  };\n",
              "}\n",
              "\n",
              "scope.google = scope.google || {};\n",
              "scope.google.colab = scope.google.colab || {};\n",
              "scope.google.colab._files = {\n",
              "  _uploadFiles,\n",
              "  _uploadFilesContinue,\n",
              "};\n",
              "})(self);\n",
              "</script> "
            ]
          },
          "metadata": {}
        },
        {
          "output_type": "stream",
          "name": "stdout",
          "text": [
            "Saving Assignment1_denton_housing.csv to Assignment1_denton_housing (2).csv\n"
          ]
        }
      ]
    },
    {
      "cell_type": "code",
      "source": [
        "import pandas as pd\n",
        "import io\n",
        "from scipy import stats\n",
        "#downloading the file\n",
        "df = pd.read_csv(io.BytesIO(uploaded['Assignment1_denton_housing (2).csv']))\n",
        "occupied_one = df[df['title_field'] == 'Occupied Housing Units']\n",
        "occupied_one = occupied_one.sort_values(by='year')\n",
        "#we now calculate yearly diff values and sort in ascending\n",
        "occupied_one['yearly_diff'] = occupied_one['value'].diff()\n",
        "yearly_diff = occupied_one.dropna(subset=['yearly_diff'])\n",
        "sorted_diff = yearly_diff[['year', 'yearly_diff']].sort_values(by='yearly_diff')\n",
        "print(sorted_diff)\n",
        "pivot_df = df.pivot(index='year', columns='title_field', values='value')\n",
        "pivot_df['Total Housing Units'] = pivot_df['Occupied Housing Units'] + pivot_df['Vacant Housing Units']\n",
        "pivot_df['Vacant Percent'] = (pivot_df['Vacant Housing Units'] / pivot_df['Total Housing Units']) * 100\n",
        "pivot_df['Occupied Percent'] = (pivot_df['Occupied Housing Units'] / pivot_df['Total Housing Units']) * 100\n",
        "#we now calculate housing percent\n",
        "for year in pivot_df.index:\n",
        "     print(f\"{year}  {pivot_df.loc[year, 'Vacant Percent']:.2f}%   {pivot_df.loc[year, 'Occupied Percent']:.2f}%\")\n",
        "maximum_vacant_one = pivot_df['Vacant Housing Units'].idxmax(), pivot_df['Vacant Housing Units'].max()\n",
        "maximum_occupied_one = pivot_df['Occupied Housing Units'].idxmax(), pivot_df['Occupied Housing Units'].max()\n",
        "#cwe calculate highest number of units of vaccant and occupied houses\n",
        "print(\"\\nYear    Value\")\n",
        "print(f\"Vacant Housing Units   {maximum_vacant_one[0]}   {maximum_vacant_one[1]}\")\n",
        "print(f\"Occupied Housing Units {maximum_occupied_one[0]} {maximum_occupied_one[1]}\")\n",
        "total = pivot_df['Total Housing Units']\n",
        "harmonic_mean = stats.hmean(total)\n",
        "print(f\"\\nharmonic Mean of total housing units: {harmonic_mean:.2f}\")\n",
        "\n",
        "\n"
      ],
      "metadata": {
        "colab": {
          "base_uri": "https://localhost:8080/"
        },
        "id": "A1LnRGCfKWQR",
        "outputId": "07955e06-4c29-46ef-ffa3-0652e448d8af"
      },
      "execution_count": 34,
      "outputs": [
        {
          "output_type": "stream",
          "name": "stdout",
          "text": [
            "    year  yearly_diff\n",
            "17  2009       -795.0\n",
            "11  2011       -303.0\n",
            "8   2012       1404.0\n",
            "5   2013       1565.0\n",
            "2   2014       2622.0\n",
            "14  2010       5091.0\n",
            "2008  10.88%   89.12%\n",
            "2009  9.07%   90.93%\n",
            "2010  8.14%   91.86%\n",
            "2011  9.38%   90.62%\n",
            "2012  6.68%   93.32%\n",
            "2013  8.80%   91.20%\n",
            "2014  5.73%   94.27%\n",
            "\n",
            "Year    Value\n",
            "Vacant Housing Units   2008   4483\n",
            "Occupied Housing Units 2014 46295\n",
            "\n",
            "Harmonic Mean of Total Housing Units: 44398.29\n"
          ]
        }
      ]
    },
    {
      "cell_type": "markdown",
      "source": [
        "# Mandatory Question\n",
        "\n",
        "Provide your thoughts on the assignment. What did you find challenging, and what aspects did you enjoy? Your opinion on the provided time to complete the assignment. Share any suggestions for improvement. Your feedback will be valuable for enhancing the learning experience."
      ],
      "metadata": {
        "id": "HyT-cLgFVWuQ"
      }
    },
    {
      "cell_type": "code",
      "source": [
        "# write your responce below\n",
        "'''\n",
        "As i  already told i have a little idea about java and this format is completlely different from that,the assignment was challenging like i have no idea about the last question it made me to do some reasearch about the concept and finnaly done with that,and i feel the energy when i solved the problem and the first three are simple one's.yes,the time for the assignment is ok,but i know the basic part and few problems are beyond that level,i improved a lot when i compare to last week and i need to concentrate on the logic problems to get the grip in the coding.\n",
        "'''\n",
        "#thankyou\n"
      ],
      "metadata": {
        "id": "WMHl3rMBV3c6"
      },
      "execution_count": null,
      "outputs": []
    }
  ]
}